{
 "cells": [
  {
   "cell_type": "markdown",
   "metadata": {},
   "source": [
    "# Mini Challenge FEA.Dev"
   ]
  },
  {
   "cell_type": "code",
   "execution_count": 1,
   "metadata": {},
   "outputs": [
    {
     "name": "stdout",
     "output_type": "stream",
     "text": [
      "Grupo 1: ['Theo', 'Adriel', 'Maria', 'Amanda', 'Gabriel']\n",
      "Grupo 2: ['Felipe', 'Vitor', 'Fernanda Mayumi', 'Leticia', 'André']\n",
      "Grupo 3: ['Mateus', 'Paulo', 'Milena', 'Guilherme', 'Henrique']\n",
      "Grupo 4: ['Marcelo', 'Kim', 'Ana', 'Fernanda Mees']\n"
     ]
    }
   ],
   "source": [
    "import random\n",
    "\n",
    "nomes = nomes = [\"André\", \"Fernanda Mees\", \"Gabriel\", \"Henrique\", \"Ana\", \"Amanda\", \"Adriel\", \"Felipe\", \"Fernanda Mayumi\", \"Guilherme\", \"Kim\", \"Leticia\", \"Marcelo\", \"Mateus\", \"Milena\", \"Paulo\", \"Theo\", \"Vitor\", \"Maria\"]\n",
    "\n",
    "exclusivos = ['André', 'Fernanda Mees', 'Gabriel', 'Henrique']\n",
    "\n",
    "random.shuffle(nomes)  # Embaralha a lista de nomes\n",
    "\n",
    "grupo1 = random.sample([nome for nome in nomes if nome not in ['André', 'Fernanda Mees', 'Gabriel', 'Henrique']], 4) + random.sample(exclusivos, 1)\n",
    "\n",
    "nomes = [nome for nome in nomes if nome not in grupo1]\n",
    "\n",
    "exclusivos = [nome for nome in exclusivos if nome not in grupo1]\n",
    "\n",
    "grupo2 = random.sample([nome for nome in nomes if nome not in ['André', 'Fernanda Mees', 'Gabriel', 'Henrique']], 4) + random.sample(exclusivos, 1)\n",
    "\n",
    "nomes = [nome for nome in nomes if nome not in grupo2]\n",
    "\n",
    "exclusivos = [nome for nome in exclusivos if nome not in grupo2]\n",
    "\n",
    "grupo3 = random.sample([nome for nome in nomes if nome not in ['André', 'Fernanda Mees', 'Gabriel', 'Henrique']], 4) + random.sample(exclusivos, 1)\n",
    "\n",
    "nomes = [nome for nome in nomes if nome not in grupo3]\n",
    "\n",
    "exclusivos = [nome for nome in exclusivos if nome not in grupo3]\n",
    "\n",
    "grupo4 = random.sample([nome for nome in nomes if nome not in ['André', 'Fernanda Mees', 'Gabriel', 'Henrique']], 3) + random.sample(exclusivos, 1)\n",
    "\n",
    "nomes = [nome for nome in nomes if nome not in grupo4]\n",
    "\n",
    "exclusivos = [nome for nome in exclusivos if nome not in grupo4]\n",
    "\n",
    "print(\"Grupo 1:\", grupo1)\n",
    "\n",
    "print(\"Grupo 2:\", grupo2)\n",
    "\n",
    "print(\"Grupo 3:\", grupo3)\n",
    "\n",
    "print(\"Grupo 4:\", grupo4)"
   ]
  }
 ],
 "metadata": {
  "kernelspec": {
   "display_name": "Python 3",
   "language": "python",
   "name": "python3"
  },
  "language_info": {
   "codemirror_mode": {
    "name": "ipython",
    "version": 3
   },
   "file_extension": ".py",
   "mimetype": "text/x-python",
   "name": "python",
   "nbconvert_exporter": "python",
   "pygments_lexer": "ipython3",
   "version": "3.11.3"
  },
  "orig_nbformat": 4
 },
 "nbformat": 4,
 "nbformat_minor": 2
}
